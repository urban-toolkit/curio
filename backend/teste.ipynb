{
 "cells": [
  {
   "cell_type": "code",
   "execution_count": 3,
   "metadata": {},
   "outputs": [],
   "source": [
    "import sqlite3\n",
    "from uuid import uuid4\n",
    "\n",
    "# conn = sqlite3.connect('provenance.db')\n",
    "conn = sqlite3.connect('template.db')\n",
    "cursor = conn.cursor()\n",
    "\n",
    "template = {\n",
    "    \"id\": str(uuid4()),  \n",
    "    \"type\": \"DATA_LOADING\", \n",
    "    \"name\": \"Parks (OSM)\", \n",
    "    \"description\": \"Load parks for Chicago using OSM\", \n",
    "    \"accessLevel\": \"ANY\", \n",
    "    \"code\": \"\"\"import utk \n",
    "uc = utk.OSM.load([!! bbox$INPUT_LIST_VALUE$[41.88043474773062,-87.62760230820301,41.89666220782541,-87.59872148227429] !!], layers=[[!! layer$SELECTION$parks$parks;water !!]]) \n",
    "gdf = uc.layers['gdf']['objects'][0] \n",
    "gdf.metadata = {'name': [!! layer$SELECTION$parks$parks;water !!]} \n",
    "return gdf\"\"\",\n",
    "    \"custom\": 0  \n",
    "}\n",
    "\n",
    "cursor.execute(\"\"\"\n",
    "INSERT INTO template (id, name, type, description, accessLevel, code, custom)\n",
    "VALUES (?, ?, ?, ?, ?, ?, ?)\n",
    "\"\"\", (\n",
    "    template[\"id\"], \n",
    "    template[\"name\"], \n",
    "    template[\"type\"], \n",
    "    template[\"description\"], \n",
    "    template[\"accessLevel\"], \n",
    "    template[\"code\"], \n",
    "    int(template[\"custom\"])  \n",
    "))\n",
    "\n",
    "conn.commit()\n",
    "\n",
    "conn.close()"
   ]
  }
 ],
 "metadata": {
  "kernelspec": {
   "display_name": "Python 3",
   "language": "python",
   "name": "python3"
  },
  "language_info": {
   "codemirror_mode": {
    "name": "ipython",
    "version": 3
   },
   "file_extension": ".py",
   "mimetype": "text/x-python",
   "name": "python",
   "nbconvert_exporter": "python",
   "pygments_lexer": "ipython3",
   "version": "3.9.5"
  }
 },
 "nbformat": 4,
 "nbformat_minor": 2
}
